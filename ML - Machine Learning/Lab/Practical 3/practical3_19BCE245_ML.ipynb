{
  "nbformat": 4,
  "nbformat_minor": 0,
  "metadata": {
    "colab": {
      "name": "practical_3.ipynb",
      "provenance": [],
      "collapsed_sections": []
    },
    "kernelspec": {
      "name": "python3",
      "display_name": "Python 3"
    },
    "language_info": {
      "name": "python"
    }
  },
  "cells": [
    {
      "cell_type": "code",
      "metadata": {
        "id": "AuG00EQVnwCX"
      },
      "source": [
        "# Importing packages\n",
        "\n",
        "import numpy as np\n",
        "import pandas as pd\n",
        "import sklearn\n",
        "import matplotlib.pyplot as plt \n",
        "from sklearn.datasets import load_boston\n",
        "from sklearn.model_selection import train_test_split\n",
        "from sklearn.metrics import mean_squared_error\n",
        "from sklearn.preprocessing import StandardScaler"
      ],
      "execution_count": 65,
      "outputs": []
    },
    {
      "cell_type": "code",
      "metadata": {
        "colab": {
          "base_uri": "https://localhost:8080/"
        },
        "id": "uN2aVUAqpvoM",
        "outputId": "17e8e323-7b1d-42d5-c1dd-e31af94d9880"
      },
      "source": [
        "# Loading datasets\n",
        "\n",
        "X, y = load_boston(return_X_y=True)\n",
        "print(f\"No of data samples : {X.shape[0]}\")"
      ],
      "execution_count": 66,
      "outputs": [
        {
          "output_type": "stream",
          "name": "stdout",
          "text": [
            "No of data samples : 506\n"
          ]
        }
      ]
    },
    {
      "cell_type": "code",
      "metadata": {
        "id": "Ke28SPQHrKcL"
      },
      "source": [
        "# Spliting into training and testing datasets\n",
        "M = 400                    # No. of samples in the training dataset\n",
        "N = X.shape[0] - M         # No. of samples in the testing dataset\n",
        "X_train, y_train = X[:M,:], y[:M]\n",
        "X_test , y_test  = X[M:,:], y[M:]"
      ],
      "execution_count": 67,
      "outputs": []
    },
    {
      "cell_type": "code",
      "metadata": {
        "id": "tWDfHz_84GRd"
      },
      "source": [
        "# Reshape the data (sklearn is pedantic)\n",
        "y_train, y_test = y_train[:, None], y_test[:, None]"
      ],
      "execution_count": 68,
      "outputs": []
    },
    {
      "cell_type": "code",
      "metadata": {
        "id": "kEaKp5mLYQIo"
      },
      "source": [
        "# Normalize the data\n",
        "scaler = StandardScaler() # To scale the X_train and X_test datasets\n",
        "\n",
        "# Let's transform the X_train and X_test data\n",
        "X_train = scaler.fit_transform(X_train)\n",
        "X_test  = scaler.transform(X_test)"
      ],
      "execution_count": 69,
      "outputs": []
    },
    {
      "cell_type": "code",
      "metadata": {
        "id": "IE3_Ms7GYRi9"
      },
      "source": [
        "X_train = np.c_[np.ones_like(X_train[:, 0]) , X_train]\n",
        "X_test  = np.c_[np.ones_like(X_test[:, 0])  , X_test ]"
      ],
      "execution_count": 70,
      "outputs": []
    },
    {
      "cell_type": "code",
      "metadata": {
        "id": "iOKE8oQZYS1l"
      },
      "source": [
        "# Let's initialize our weights\n",
        "w = np.random.randn(X_train.shape[-1], 1)"
      ],
      "execution_count": 71,
      "outputs": []
    },
    {
      "cell_type": "code",
      "metadata": {
        "id": "ANqDf3EwYUoK"
      },
      "source": [
        "def loss(y, y_pred):\n",
        "    return 0.5 * np.mean((y - y_pred) ** 2)\n",
        "\n",
        "def loss_grad(X, y, y_pred):\n",
        "    return (1./X.shape[0]) * X.T @ (y_pred - y)"
      ],
      "execution_count": 72,
      "outputs": []
    },
    {
      "cell_type": "code",
      "metadata": {
        "colab": {
          "base_uri": "https://localhost:8080/"
        },
        "id": "_6sDCsbDYWIJ",
        "outputId": "d9a1c7d6-c791-471d-8bd3-361286ed187d"
      },
      "source": [
        "# Start training now!\n",
        "import time\n",
        "import sys\n",
        "\n",
        "epochs = 100\n",
        "alpha  = 0.03\n",
        "train_losses = []\n",
        "test_losses  = []\n",
        "for _ in range(epochs):\n",
        "    y_pred = X_train @ w\n",
        "    w_grad = loss_grad(X_train, y_train, y_pred)\n",
        "    w = w - alpha * w_grad\n",
        "    sys.stdout.write(f\"\\rEpochs : {_}, loss_train : {loss(y_train, y_pred):.4f}, loss_test : {loss(y_test, X_test @ w):.4f}\")\n",
        "    train_losses.append(loss(y_train, y_pred))\n",
        "    test_losses.append(loss(y_test, X_test @ w))\n",
        "    time.sleep(0.05)"
      ],
      "execution_count": 73,
      "outputs": [
        {
          "output_type": "stream",
          "name": "stdout",
          "text": [
            "Epochs : 99, loss_train : 13.5612, loss_test : 15.0852"
          ]
        }
      ]
    },
    {
      "cell_type": "code",
      "metadata": {
        "colab": {
          "base_uri": "https://localhost:8080/",
          "height": 295
        },
        "id": "XhHaWBCwYXyl",
        "outputId": "1089a9c5-7234-49a7-f8fd-51c4a6b65f7f"
      },
      "source": [
        "import matplotlib.pyplot as plt\n",
        "\n",
        "plt.plot(train_losses, color='r', label=\"Train loss\")\n",
        "plt.plot(test_losses, color='g', label=\"Test loss\")\n",
        "plt.title(\"Train and Test Loss\")\n",
        "plt.xlabel(\"epochs\")\n",
        "plt.ylabel(\"loss value\")\n",
        "plt.legend()\n",
        "plt.show()"
      ],
      "execution_count": 74,
      "outputs": [
        {
          "output_type": "display_data",
          "data": {
            "image/png": "[encoded data removed]",
            "text/plain": [
              "<Figure size 432x288 with 1 Axes>"
            ]
          },
          "metadata": {
            "needs_background": "light"
          }
        }
      ]
    },
    {
      "cell_type": "code",
      "metadata": {
        "colab": {
          "base_uri": "https://localhost:8080/",
          "height": 1000
        },
        "id": "dGanbtx9YZV2",
        "outputId": "46875b99-0b47-4e14-f6a1-1478070019f1"
      },
      "source": [
        "#for saving values for table generation \n",
        "thetas = []\n",
        "MAEs = []\n",
        "MSEs = []\n",
        "\n",
        "epochs = 100\n",
        "# alphas  = [0.01, 0.03, 0.05, 0.1, 0.37]\n",
        "alphas  = [0.0001, 0.0003, 0.001, 0.003, 0.01, 0.03, 0.037, 0.05, 0.1, 0.37]\n",
        "for alpha in alphas:\n",
        "    w = np.random.randn(X_train.shape[-1], 1)\n",
        "    train_losses = []\n",
        "    for _ in range(epochs):\n",
        "        y_pred = X_train @ w\n",
        "        w_grad = loss_grad(X_train, y_train, y_pred)\n",
        "        w = w - alpha * w_grad\n",
        "        train_losses.append(loss(y_train, y_pred))\n",
        "#         test_losses.append(loss(y_test, X_test @ w))\n",
        "    plt.plot(train_losses, label=f\"$\\\\alpha$={alpha}\")\n",
        "\n",
        "    predictions=np.dot(X_test,w)\n",
        "    print(\"For alpha\",alpha,\":\")\n",
        "    print(\"\\tTheta:\", w) \n",
        "    thetas.append(w)\n",
        "\n",
        "    this_MAE = sklearn.metrics.mean_absolute_error(y_true=y_test,y_pred=predictions)\n",
        "    print(\"\\tMAE:\", this_MAE) \n",
        "    MAEs.append(this_MAE)\n",
        "\n",
        "    this_MSE = sklearn.metrics.mean_squared_error(y_true=y_test,y_pred=predictions)\n",
        "    print(\"\\tMSE:\", this_MSE) \n",
        "    MSEs.append(this_MSE)\n",
        "    \n",
        "# plt.legend()\n",
        "plt.title(\"Loss for different hyperparameters\")\n",
        "plt.show()"
      ],
      "execution_count": 75,
      "outputs": [
        {
          "output_type": "stream",
          "name": "stdout",
          "text": [
            "For alpha 0.0001 :\n",
            "\tTheta: [[-0.39925526]\n",
            " [ 0.50000383]\n",
            " [ 2.07775593]\n",
            " [ 0.74895147]\n",
            " [ 0.58949543]\n",
            " [-0.25972503]\n",
            " [ 2.33375756]\n",
            " [-1.68370803]\n",
            " [ 0.42818343]\n",
            " [ 0.31342742]\n",
            " [ 0.01400306]\n",
            " [-0.53351756]\n",
            " [-1.20346038]\n",
            " [-0.00855802]]\n",
            "\tMAE: 15.18930152842787\n",
            "\tMSE: 299.6740767572498\n",
            "For alpha 0.0003 :\n",
            "\tTheta: [[-0.35640997]\n",
            " [-0.48481105]\n",
            " [-0.64248745]\n",
            " [-1.46278109]\n",
            " [-0.43574326]\n",
            " [ 0.24613746]\n",
            " [-0.8418798 ]\n",
            " [ 1.43630306]\n",
            " [-1.0041252 ]\n",
            " [-0.26197713]\n",
            " [-0.55131567]\n",
            " [ 1.8752137 ]\n",
            " [-0.52610099]\n",
            " [-1.20843902]]\n",
            "\tMAE: 15.392293944333394\n",
            "\tMSE: 270.2328400596714\n",
            "For alpha 0.001 :\n",
            "\tTheta: [[ 2.9952745 ]\n",
            " [-1.37389219]\n",
            " [ 2.5185879 ]\n",
            " [-0.81442255]\n",
            " [-0.1321475 ]\n",
            " [ 0.45778958]\n",
            " [-0.05785604]\n",
            " [ 0.39880353]\n",
            " [-0.5653267 ]\n",
            " [-0.77728479]\n",
            " [-0.74673891]\n",
            " [ 0.01382263]\n",
            " [ 0.14462914]\n",
            " [-0.10306591]]\n",
            "\tMAE: 19.74248159353918\n",
            "\tMSE: 413.2464491751797\n",
            "For alpha 0.003 :\n",
            "\tTheta: [[ 6.36287451]\n",
            " [ 0.07990647]\n",
            " [ 0.12907113]\n",
            " [-0.90923247]\n",
            " [-1.46059024]\n",
            " [-1.06121614]\n",
            " [ 0.78492935]\n",
            " [-0.481126  ]\n",
            " [ 0.22303217]\n",
            " [ 1.94636515]\n",
            " [-0.74534808]\n",
            " [-2.59850682]\n",
            " [ 0.20484533]\n",
            " [-0.59742392]]\n",
            "\tMAE: 12.900447713767893\n",
            "\tMSE: 187.50135720265695\n",
            "For alpha 0.01 :\n",
            "\tTheta: [[15.51448212]\n",
            " [-0.91271604]\n",
            " [ 0.96980842]\n",
            " [ 0.03792848]\n",
            " [ 1.05911199]\n",
            " [-1.26733162]\n",
            " [ 2.9836683 ]\n",
            " [ 0.47555448]\n",
            " [-0.91688757]\n",
            " [ 0.19410152]\n",
            " [ 0.07549816]\n",
            " [-1.16839727]\n",
            " [ 0.5727276 ]\n",
            " [-2.26320589]]\n",
            "\tMAE: 7.965204265664068\n",
            "\tMSE: 79.74723131911446\n",
            "For alpha 0.03 :\n",
            "\tTheta: [[23.1620726 ]\n",
            " [-0.77241619]\n",
            " [ 1.05638024]\n",
            " [-0.43039596]\n",
            " [ 0.72208168]\n",
            " [-0.41364796]\n",
            " [ 3.95967327]\n",
            " [ 0.06808088]\n",
            " [-2.11251923]\n",
            " [ 1.17412185]\n",
            " [-0.69177838]\n",
            " [-1.23497142]\n",
            " [ 0.07376392]\n",
            " [-3.21907208]]\n",
            "\tMAE: 4.077712394609106\n",
            "\tMSE: 25.098154452856157\n",
            "For alpha 0.037 :\n",
            "\tTheta: [[23.74088067]\n",
            " [-0.46742962]\n",
            " [ 1.28283529]\n",
            " [-0.66603044]\n",
            " [ 0.73368274]\n",
            " [-0.62749466]\n",
            " [ 3.37398574]\n",
            " [-0.17179695]\n",
            " [-3.13931696]\n",
            " [ 0.39218368]\n",
            " [-0.04989059]\n",
            " [-1.26377432]\n",
            " [ 0.2441308 ]\n",
            " [-3.83119219]]\n",
            "\tMAE: 3.6314912539454416\n",
            "\tMSE: 20.774716636762882\n",
            "For alpha 0.05 :\n",
            "\tTheta: [[24.19371371]\n",
            " [-0.83489091]\n",
            " [ 0.91392928]\n",
            " [ 0.11553724]\n",
            " [ 0.635306  ]\n",
            " [-1.30171861]\n",
            " [ 3.75267996]\n",
            " [-0.11214185]\n",
            " [-2.57845828]\n",
            " [ 1.6989328 ]\n",
            " [-0.87562792]\n",
            " [-1.67276097]\n",
            " [ 0.09466662]\n",
            " [-3.41051867]]\n",
            "\tMAE: 4.44883841979193\n",
            "\tMSE: 29.1306742147603\n",
            "For alpha 0.1 :\n",
            "\tTheta: [[ 2.43339031e+01]\n",
            " [-1.05448047e+00]\n",
            " [ 9.90435646e-01]\n",
            " [ 5.03182272e-02]\n",
            " [ 5.45308796e-01]\n",
            " [-1.44477270e+00]\n",
            " [ 3.62937579e+00]\n",
            " [ 8.99903632e-03]\n",
            " [-2.73942823e+00]\n",
            " [ 2.32694292e+00]\n",
            " [-1.27172080e+00]\n",
            " [-1.71964002e+00]\n",
            " [ 1.72780863e-02]\n",
            " [-3.50525761e+00]]\n",
            "\tMAE: 4.852705090072671\n",
            "\tMSE: 33.89109167985263\n",
            "For alpha 0.37 :\n",
            "\tTheta: [[24.3345    ]\n",
            " [ 3.00655517]\n",
            " [-3.47589409]\n",
            " [ 6.44849831]\n",
            " [ 1.61660424]\n",
            " [ 4.5607586 ]\n",
            " [-0.0806191 ]\n",
            " [ 5.76737151]\n",
            " [-8.55401925]\n",
            " [ 8.19986816]\n",
            " [ 3.66469054]\n",
            " [ 0.75690209]\n",
            " [-2.24028411]\n",
            " [ 1.76177764]]\n",
            "\tMAE: 74.06609687969615\n",
            "\tMSE: 6405.995051728531\n"
          ]
        },
        {
          "output_type": "display_data",
          "data": {
            "image/png": "[encoded data removed]",
            "text/plain": [
              "<Figure size 432x288 with 1 Axes>"
            ]
          },
          "metadata": {
            "needs_background": "light"
          }
        }
      ]
    },
    {
      "cell_type": "markdown",
      "metadata": {
        "id": "PplYIo4EgFjT"
      },
      "source": [
        "# Extra Lab work \n",
        "Plotting graph for 10 alpha values and calculating their MAE and MSE.\n",
        "Also generating table of alpha values along with their respective theta values, MSE and MAB."
      ]
    },
    {
      "cell_type": "code",
      "metadata": {
        "colab": {
          "base_uri": "https://localhost:8080/"
        },
        "id": "pqGVKaJjfra1",
        "outputId": "bb684a48-9be5-45a8-e6cd-6f8634e08484"
      },
      "source": [
        "# Generating table of 10x17 for each of 10 alpha values in which parameters like MSE, MAE, 14 Theta values are included.\n",
        "from prettytable import PrettyTable\n",
        "myTable = PrettyTable([\"Alpha values\", \"MAE\", \"MSE\", \"θ0\", \"θ1\", \"θ2\", \"θ3\", \"θ4\", \"θ5\", \"θ6\", \"θ7\", \"θ8\", \"θ9\", \"θ10\", \"θ11\", \"θ12\", \"θ13\" ])\n",
        "\n",
        "for i in range(len(alphas)):\n",
        "  myTable.add_row([str(alphas[i]), str(MAEs[i]), str(MSEs[i]), str(thetas[i][0]), str(thetas[i][1]), str(thetas[i][2]), str(thetas[i][3]), str(thetas[i][4]), str(thetas[i][5]), str(thetas[i][6]), str(thetas[i][7]), str(thetas[i][8]), str(thetas[i][9]), str(thetas[i][10]), str(thetas[i][11]), str(thetas[i][12]), str(thetas[i][13])])\n",
        "print(myTable)"
      ],
      "execution_count": 76,
      "outputs": [
        {
          "output_type": "stream",
          "name": "stdout",
          "text": [
            "+--------------+--------------------+--------------------+---------------+---------------+---------------+---------------+---------------+---------------+---------------+---------------+---------------+---------------+---------------+---------------+---------------+---------------+\n",
            "| Alpha values |        MAE         |        MSE         |       θ0      |       θ1      |       θ2      |       θ3      |       θ4      |       θ5      |       θ6      |       θ7      |       θ8      |       θ9      |      θ10      |      θ11      |      θ12      |      θ13      |\n",
            "+--------------+--------------------+--------------------+---------------+---------------+---------------+---------------+---------------+---------------+---------------+---------------+---------------+---------------+---------------+---------------+---------------+---------------+\n",
            "|    0.0001    | 15.18930152842787  | 299.6740767572498  | [-0.39925526] |  [0.50000383] |  [2.07775593] |  [0.74895147] |  [0.58949543] | [-0.25972503] |  [2.33375756] | [-1.68370803] |  [0.42818343] |  [0.31342742] |  [0.01400306] | [-0.53351756] | [-1.20346038] | [-0.00855802] |\n",
            "|    0.0003    | 15.392293944333394 | 270.2328400596714  | [-0.35640997] | [-0.48481105] | [-0.64248745] | [-1.46278109] | [-0.43574326] |  [0.24613746] |  [-0.8418798] |  [1.43630306] |  [-1.0041252] | [-0.26197713] | [-0.55131567] |  [1.8752137]  | [-0.52610099] | [-1.20843902] |\n",
            "|    0.001     | 19.74248159353918  | 413.2464491751797  |  [2.9952745]  | [-1.37389219] |  [2.5185879]  | [-0.81442255] |  [-0.1321475] |  [0.45778958] | [-0.05785604] |  [0.39880353] |  [-0.5653267] | [-0.77728479] | [-0.74673891] |  [0.01382263] |  [0.14462914] | [-0.10306591] |\n",
            "|    0.003     | 12.900447713767893 | 187.50135720265695 |  [6.36287451] |  [0.07990647] |  [0.12907113] | [-0.90923247] | [-1.46059024] | [-1.06121614] |  [0.78492935] |  [-0.481126]  |  [0.22303217] |  [1.94636515] | [-0.74534808] | [-2.59850682] |  [0.20484533] | [-0.59742392] |\n",
            "|     0.01     | 7.965204265664068  | 79.74723131911446  | [15.51448212] | [-0.91271604] |  [0.96980842] |  [0.03792848] |  [1.05911199] | [-1.26733162] |  [2.9836683]  |  [0.47555448] | [-0.91688757] |  [0.19410152] |  [0.07549816] | [-1.16839727] |  [0.5727276]  | [-2.26320589] |\n",
            "|     0.03     | 4.077712394609106  | 25.098154452856157 |  [23.1620726] | [-0.77241619] |  [1.05638024] | [-0.43039596] |  [0.72208168] | [-0.41364796] |  [3.95967327] |  [0.06808088] | [-2.11251923] |  [1.17412185] | [-0.69177838] | [-1.23497142] |  [0.07376392] | [-3.21907208] |\n",
            "|    0.037     | 3.6314912539454416 | 20.774716636762882 | [23.74088067] | [-0.46742962] |  [1.28283529] | [-0.66603044] |  [0.73368274] | [-0.62749466] |  [3.37398574] | [-0.17179695] | [-3.13931696] |  [0.39218368] | [-0.04989059] | [-1.26377432] |  [0.2441308]  | [-3.83119219] |\n",
            "|     0.05     |  4.44883841979193  |  29.1306742147603  | [24.19371371] | [-0.83489091] |  [0.91392928] |  [0.11553724] |   [0.635306]  | [-1.30171861] |  [3.75267996] | [-0.11214185] | [-2.57845828] |  [1.6989328]  | [-0.87562792] | [-1.67276097] |  [0.09466662] | [-3.41051867] |\n",
            "|     0.1      | 4.852705090072671  | 33.89109167985263  | [24.33390309] | [-1.05448047] |  [0.99043565] |  [0.05031823] |  [0.5453088]  |  [-1.4447727] |  [3.62937579] |  [0.00899904] | [-2.73942823] |  [2.32694292] |  [-1.2717208] | [-1.71964002] |  [0.01727809] | [-3.50525761] |\n",
            "|     0.37     | 74.06609687969615  | 6405.995051728531  |   [24.3345]   |  [3.00655517] | [-3.47589409] |  [6.44849831] |  [1.61660424] |  [4.5607586]  |  [-0.0806191] |  [5.76737151] | [-8.55401925] |  [8.19986816] |  [3.66469054] |  [0.75690209] | [-2.24028411] |  [1.76177764] |\n",
            "+--------------+--------------------+--------------------+---------------+---------------+---------------+---------------+---------------+---------------+---------------+---------------+---------------+---------------+---------------+---------------+---------------+---------------+\n"
          ]
        }
      ]
    },
    {
      "cell_type": "markdown",
      "metadata": {
        "id": "4LVZKOVXYbPZ"
      },
      "source": [
        "# Linear Regression using normal equation : "
      ]
    },
    {
      "cell_type": "code",
      "metadata": {
        "colab": {
          "base_uri": "https://localhost:8080/"
        },
        "id": "wO0lFu0ikXFc",
        "outputId": "b1c6ebe2-1ada-436f-a3bf-9218268560bd"
      },
      "source": [
        "import numpy as np\n",
        "from sklearn import datasets, metrics\n",
        "from numpy.linalg import inv, pinv, LinAlgError\n",
        "\n",
        "X, y = datasets.load_boston(return_X_y=True)\n",
        "X_train_temp1=X[0:400,:]\n",
        "X_train=np.zeros((X_train_temp1.shape[0],X_train_temp1.shape[1]+1))\n",
        "X_train[:,0]=np.ones((X_train_temp1.shape[0]))\n",
        "X_train[:,1:]=X_train_temp1\n",
        "print(\"Type of X_train:\", type(X_train), \"Shape of X_train:\", X_train.shape)\n",
        "y_train=y[0:400]\n",
        "X_test_temp1=X[400:506,:]\n",
        "X_test=np.zeros((X_test_temp1.shape[0],X_test_temp1.shape[1]+1))\n",
        "X_test[:,0]=np.ones((X_test_temp1.shape[0]))\n",
        "X_test[:,1:]=X_test_temp1\n",
        "print(\"Type of X_test:\", type(X_test), \"Shape of X_test:\", X_test.shape)\n",
        "y_test=y[400:506]\n",
        "theta=np.zeros(X_train.shape[1])\n",
        "try:\n",
        "  XTXi=inv(np.dot(X_train.T,X_train))\n",
        "except LinAlgError:\n",
        "  XTXi=pinv(np.dot(X_train.T,X_train))\n",
        "XTy=np.dot(X_train.T,y_train)\n",
        "theta=np.dot(XTXi,XTy)\n",
        "print(\"Thetas:\", theta)\n",
        "print(\"Thetas Shape:\", theta.shape)\n",
        "predictions=np.dot(theta,X_test.T)\n",
        "print(\"MAE:\", metrics.mean_absolute_error(y_true=y_test,y_pred=predictions))\n",
        "print(\"MSE:\", metrics.mean_squared_error(y_true=y_test,y_pred=predictions))"
      ],
      "execution_count": 77,
      "outputs": [
        {
          "output_type": "stream",
          "name": "stdout",
          "text": [
            "Type of X_train: <class 'numpy.ndarray'> Shape of X_train: (400, 14)\n",
            "Type of X_test: <class 'numpy.ndarray'> Shape of X_test: (106, 14)\n",
            "Thetas: [ 2.86725996e+01 -1.91246374e-01  4.42289967e-02  5.52207977e-02\n",
            "  1.71631351e+00 -1.49957220e+01  4.88773025e+00  2.60921031e-03\n",
            " -1.29480799e+00  4.84787214e-01 -1.54006673e-02 -8.08795026e-01\n",
            " -1.29230427e-03 -5.17953791e-01]\n",
            "Thetas Shape: (14,)\n",
            "MAE: 5.142232214464314\n",
            "MSE: 37.89377859958516\n"
          ]
        }
      ]
    }
  ]
}