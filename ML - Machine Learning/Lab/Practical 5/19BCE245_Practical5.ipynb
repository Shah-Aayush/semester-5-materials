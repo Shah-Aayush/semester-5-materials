{
  "nbformat": 4,
  "nbformat_minor": 0,
  "metadata": {
    "colab": {
      "name": "19BCE245_Practical5.ipynb",
      "provenance": [],
      "collapsed_sections": []
    },
    "kernelspec": {
      "name": "python3",
      "display_name": "Python 3.9.4 64-bit"
    },
    "language_info": {
      "name": "python",
      "version": "3.9.4",
      "mimetype": "text/x-python",
      "codemirror_mode": {
        "name": "ipython",
        "version": 3
      },
      "pygments_lexer": "ipython3",
      "nbconvert_exporter": "python",
      "file_extension": ".py"
    },
    "interpreter": {
      "hash": "8e6cca7b58940eb5ef1b0ab026d81e44c9f27ca8e041bc6b9866041c68ac3f69"
    }
  },
  "cells": [
    {
      "cell_type": "markdown",
      "metadata": {
        "id": "c5xpa2N8jLXn"
      },
      "source": [
        "# Practical 5 Machine Learning\n",
        "\n",
        "- Aayush Shah\n",
        "- 19BCE245"
      ]
    },
    {
      "cell_type": "markdown",
      "metadata": {
        "id": "0_WhwMoo99jg"
      },
      "source": [
        "### Importing Libraries"
      ]
    },
    {
      "cell_type": "code",
      "metadata": {
        "id": "38CgVrIj9y3F"
      },
      "source": [
        "import numpy\n",
        "from sklearn import datasets,metrics\n",
        "from sklearn.datasets import load_iris\n",
        "from sklearn.feature_extraction.text import CountVectorizer\n",
        "from sklearn.metrics import confusion_matrix, accuracy_score\n",
        "from sklearn.naive_bayes import BernoulliNB, MultinomialNB, GaussianNB"
      ],
      "execution_count": 14,
      "outputs": []
    },
    {
      "cell_type": "markdown",
      "metadata": {
        "id": "IktN46bVFNWV"
      },
      "source": [
        "### Loading data"
      ]
    },
    {
      "cell_type": "code",
      "metadata": {
        "id": "4L04ZxMjFLZM"
      },
      "source": [
        "# Loading data\n",
        "X, y = load_iris(return_X_y=True)\n",
        "\n",
        "X_train, y_train = X[0:150:2, ...], y[0:150:2]\n",
        "X_test, y_test = X[1:150:2, ...], y[1:150:2]"
      ],
      "execution_count": 15,
      "outputs": []
    },
    {
      "cell_type": "markdown",
      "metadata": {
        "id": "GhHnx4TKl-mw"
      },
      "source": [
        "### Gaussian NB model"
      ]
    },
    {
      "cell_type": "code",
      "metadata": {
        "id": "An96QyMz-z4K"
      },
      "source": [
        "gnb_model = GaussianNB()"
      ],
      "execution_count": 16,
      "outputs": []
    },
    {
      "cell_type": "code",
      "metadata": {
        "colab": {
          "base_uri": "https://localhost:8080/"
        },
        "id": "mIFF4Lm4pe4b",
        "outputId": "1cead2b8-c3e1-477d-822d-185481f280b3"
      },
      "source": [
        "gnb_model.fit(X_train, y_train)"
      ],
      "execution_count": 17,
      "outputs": [
        {
          "output_type": "execute_result",
          "data": {
            "text/plain": [
              "GaussianNB(priors=None, var_smoothing=1e-09)"
            ]
          },
          "metadata": {},
          "execution_count": 17
        }
      ]
    },
    {
      "cell_type": "code",
      "metadata": {
        "colab": {
          "base_uri": "https://localhost:8080/"
        },
        "id": "dWqE-_2CpcDU",
        "outputId": "0dc98bb9-532f-4680-9626-e492b4132eac"
      },
      "source": [
        "y_pred_gnb = gnb_model.predict(X_test)\n",
        "confusion_matrix(y_test, y_pred_gnb)"
      ],
      "execution_count": 18,
      "outputs": [
        {
          "output_type": "execute_result",
          "data": {
            "text/plain": [
              "array([[25,  0,  0],\n",
              "       [ 0, 24,  1],\n",
              "       [ 0,  2, 23]])"
            ]
          },
          "metadata": {},
          "execution_count": 18
        }
      ]
    },
    {
      "cell_type": "code",
      "metadata": {
        "colab": {
          "base_uri": "https://localhost:8080/"
        },
        "id": "2NNFDRx0pamu",
        "outputId": "e78101b7-4601-4418-8ce4-c76cce7d3254"
      },
      "source": [
        "accuracy_score(y_test, y_pred_gnb)"
      ],
      "execution_count": 19,
      "outputs": [
        {
          "output_type": "execute_result",
          "data": {
            "text/plain": [
              "0.96"
            ]
          },
          "metadata": {},
          "execution_count": 19
        }
      ]
    },
    {
      "cell_type": "markdown",
      "metadata": {
        "id": "ef-E3e7xEx27"
      },
      "source": [
        "# Bernoulli naive bayes classification"
      ]
    },
    {
      "cell_type": "code",
      "metadata": {
        "colab": {
          "base_uri": "https://localhost:8080/"
        },
        "id": "bsEzaWyPFeo3",
        "outputId": "c0a9084c-5b0d-4210-bb8f-3630aa342253"
      },
      "source": [
        "Ber = BernoulliNB()\n",
        "Ber.fit(X_train, y_train)\n",
        "y_pred=Ber.predict(X_test)\n",
        "\n",
        "print(\"Accuracy : \",metrics.accuracy_score(y_test,y_pred,normalize=True))\n",
        "print(metrics.confusion_matrix(y_test,y_pred))\n",
        "print(metrics.classification_report(y_test,y_pred))"
      ],
      "execution_count": 20,
      "outputs": [
        {
          "output_type": "stream",
          "name": "stdout",
          "text": [
            "Accuracy :  0.3333333333333333\n",
            "[[25  0  0]\n",
            " [25  0  0]\n",
            " [25  0  0]]\n",
            "              precision    recall  f1-score   support\n",
            "\n",
            "           0       0.33      1.00      0.50        25\n",
            "           1       0.00      0.00      0.00        25\n",
            "           2       0.00      0.00      0.00        25\n",
            "\n",
            "    accuracy                           0.33        75\n",
            "   macro avg       0.11      0.33      0.17        75\n",
            "weighted avg       0.11      0.33      0.17        75\n",
            "\n"
          ]
        },
        {
          "output_type": "stream",
          "name": "stderr",
          "text": [
            "/usr/local/lib/python3.7/dist-packages/sklearn/metrics/_classification.py:1272: UndefinedMetricWarning: Precision and F-score are ill-defined and being set to 0.0 in labels with no predicted samples. Use `zero_division` parameter to control this behavior.\n",
            "  _warn_prf(average, modifier, msg_start, len(result))\n"
          ]
        }
      ]
    },
    {
      "cell_type": "markdown",
      "metadata": {
        "id": "tebb7ARyrSMi"
      },
      "source": [
        "### KNN"
      ]
    },
    {
      "cell_type": "code",
      "metadata": {
        "colab": {
          "base_uri": "https://localhost:8080/",
          "height": 295
        },
        "id": "hCP80CkFrRn0",
        "outputId": "58a102f5-cc2e-44e8-9c05-7b02399eba35"
      },
      "source": [
        "# KNN\n",
        "\n",
        "from sklearn.neighbors import KNeighborsClassifier\n",
        "import matplotlib.pyplot as plt\n",
        "a,tempList1,tempList2=[],[],[]\n",
        "b=[]\n",
        "for i in range(3,9):\n",
        "    knn = KNeighborsClassifier(n_neighbors=i)\n",
        "    knn.fit(X_train, y_train)\n",
        "    a.append(knn.score(X_test, y_test))\n",
        "    b.append(i)\n",
        "\n",
        "plt.plot(b,a,color='b')\n",
        "plt.xlabel(\"Neighbours\")\n",
        "plt.ylabel(\"Accuracy\")\n",
        "plt.title(\"KNN Classification Algo\")\n",
        "plt.show()"
      ],
      "execution_count": 21,
      "outputs": [
        {
          "output_type": "display_data",
          "data": {
            "image/png": "[encoded data removed]",
            "text/plain": [
              "<Figure size 432x288 with 1 Axes>"
            ]
          },
          "metadata": {
            "needs_background": "light"
          }
        }
      ]
    },
    {
      "cell_type": "markdown",
      "metadata": {
        "id": "Zv9B9b0gGJYh"
      },
      "source": [
        "# Multinomial naive bayes classification"
      ]
    },
    {
      "cell_type": "code",
      "metadata": {
        "colab": {
          "base_uri": "https://localhost:8080/"
        },
        "id": "QETnToZxGOIA",
        "outputId": "36668486-dc25-424a-b0e3-42f147de1a17"
      },
      "source": [
        "clf=MultinomialNB()\n",
        "clf.fit(X_train,y_train)\n",
        "predictions=clf.predict(X_test)\n",
        "print(predictions.shape,predictions)\n",
        "\n",
        "print(\"Accuracy: \",metrics.accuracy_score(y_test,predictions,normalize=True))\n",
        "print(metrics.classification_report(y_test,predictions))\n",
        "print(metrics.confusion_matrix(y_test,predictions))"
      ],
      "execution_count": 22,
      "outputs": [
        {
          "output_type": "stream",
          "name": "stdout",
          "text": [
            "(75,) [0 0 0 0 0 0 0 0 0 0 0 0 0 0 0 0 0 0 0 0 0 0 0 0 0 1 1 1 1 1 1 1 1 1 1 1 1\n",
            " 1 1 1 1 2 1 1 1 1 1 1 1 1 2 2 2 2 2 2 2 2 2 2 2 2 1 2 1 1 1 2 2 2 2 2 2 2\n",
            " 2]\n",
            "Accuracy:  0.9333333333333333\n",
            "              precision    recall  f1-score   support\n",
            "\n",
            "           0       1.00      1.00      1.00        25\n",
            "           1       0.86      0.96      0.91        25\n",
            "           2       0.95      0.84      0.89        25\n",
            "\n",
            "    accuracy                           0.93        75\n",
            "   macro avg       0.94      0.93      0.93        75\n",
            "weighted avg       0.94      0.93      0.93        75\n",
            "\n",
            "[[25  0  0]\n",
            " [ 0 24  1]\n",
            " [ 0  4 21]]\n"
          ]
        }
      ]
    },
    {
      "cell_type": "markdown",
      "metadata": {
        "id": "rsHDPANX6iS8"
      },
      "source": [
        "# part 2"
      ]
    },
    {
      "cell_type": "markdown",
      "metadata": {
        "id": "oXN2g_YC6YO7"
      },
      "source": [
        "All Electronic Customer Database Generation"
      ]
    },
    {
      "cell_type": "code",
      "metadata": {
        "colab": {
          "base_uri": "https://localhost:8080/"
        },
        "id": "Et_k7wR16XXI",
        "outputId": "b4d6d547-4ab3-4a8a-e627-d5e441ae7554"
      },
      "source": [
        " \"\"\"\n",
        " there are basically 14 rows and 6 columns in this dataset\n",
        " column names are :   RID   age   income    student   credit_rating   class:buys_computer\n",
        " for age---> youth=1   middleaged=2 and senior=3\n",
        " for income---> low=1    medium=2 and high=3\n",
        " for student--->no=0 and yes=1\n",
        " for credit rating---> fair=0 and excellent=1\n",
        " for class---> no=0  and yes=1\n",
        " \"\"\"\n",
        "import pandas as pd\n",
        "data=pd.read_csv('DataMining.csv',)\n",
        "print(data)\n",
        "data['Age'].replace('youth',1,inplace=True)\n",
        "data['Age'].replace('middle_aged',2,inplace=True)\n",
        "data['Age'].replace('senior',3,inplace=True)\n",
        "\n",
        "data['Income'].replace('low',1,inplace=True)\n",
        "data['Income'].replace('medium',2,inplace=True)\n",
        "data['Income'].replace('high',3,inplace=True)\n",
        "\n",
        "data['Student'].replace('no',0,inplace=True)\n",
        "data['Student'].replace('yes',1,inplace=True)\n",
        "\n",
        "data['Credit_Rating'].replace('fair',0,inplace=True)\n",
        "data['Credit_Rating'].replace('excellent',1,inplace=True)\n",
        "\n",
        "data['Class:Buy_Computer'].replace('no',0,inplace=True)\n",
        "data['Class:Buy_Computer'].replace('yes',1,inplace=True)\n",
        "print(data)\n",
        "X_train=data.iloc[:14,1:5]\n",
        "print(X_train)\n",
        "y_train=data.iloc[:14,5]\n",
        "print(y_train)"
      ],
      "execution_count": 10,
      "outputs": [
        {
          "output_type": "stream",
          "name": "stdout",
          "text": [
            "    RID          Age  Income Student Credit_Rating Class:Buy_Computer\n",
            "0     1        youth    high      no          fair                 no\n",
            "1     2        youth    high      no     excellent                 no\n",
            "2     3  middle_aged    high      no          fair                yes\n",
            "3     4       senior  medium      no          fair                yes\n",
            "4     5       senior     low     yes          fair                yes\n",
            "5     6       senior     low     yes     excellent                 no\n",
            "6     7  middle_aged     low     yes     excellent                yes\n",
            "7     8        youth  medium      no          fair                 no\n",
            "8     9        youth     low     yes          fair                yes\n",
            "9    10       senior  medium     yes          fair                yes\n",
            "10   11        youth  medium     yes     excellent                yes\n",
            "11   12  middle_aged  medium      no     excellent                yes\n",
            "12   13  middle_aged    high     yes          fair                yes\n",
            "13   14       senior  medium      no     excellent                 no\n",
            "    RID  Age  Income  Student  Credit_Rating  Class:Buy_Computer\n",
            "0     1    1       3        0              0                   0\n",
            "1     2    1       3        0              1                   0\n",
            "2     3    2       3        0              0                   1\n",
            "3     4    3       2        0              0                   1\n",
            "4     5    3       1        1              0                   1\n",
            "5     6    3       1        1              1                   0\n",
            "6     7    2       1        1              1                   1\n",
            "7     8    1       2        0              0                   0\n",
            "8     9    1       1        1              0                   1\n",
            "9    10    3       2        1              0                   1\n",
            "10   11    1       2        1              1                   1\n",
            "11   12    2       2        0              1                   1\n",
            "12   13    2       3        1              0                   1\n",
            "13   14    3       2        0              1                   0\n",
            "    Age  Income  Student  Credit_Rating\n",
            "0     1       3        0              0\n",
            "1     1       3        0              1\n",
            "2     2       3        0              0\n",
            "3     3       2        0              0\n",
            "4     3       1        1              0\n",
            "5     3       1        1              1\n",
            "6     2       1        1              1\n",
            "7     1       2        0              0\n",
            "8     1       1        1              0\n",
            "9     3       2        1              0\n",
            "10    1       2        1              1\n",
            "11    2       2        0              1\n",
            "12    2       3        1              0\n",
            "13    3       2        0              1\n",
            "0     0\n",
            "1     0\n",
            "2     1\n",
            "3     1\n",
            "4     1\n",
            "5     0\n",
            "6     1\n",
            "7     0\n",
            "8     1\n",
            "9     1\n",
            "10    1\n",
            "11    1\n",
            "12    1\n",
            "13    0\n",
            "Name: Class:Buy_Computer, dtype: int64\n"
          ]
        }
      ]
    },
    {
      "cell_type": "code",
      "metadata": {
        "colab": {
          "base_uri": "https://localhost:8080/"
        },
        "id": "yaw0O8tL_fmU",
        "outputId": "35204a0f-92d8-4894-e0b3-1387022663b5"
      },
      "source": [
        "clf=GaussianNB()\n",
        "clf.fit(X_train,y_train)\n",
        "print(clf)\n",
        "X_test=data.iloc[0:14,1:5]\n",
        "print(X_train.shape,X_test.shape)\n",
        "predictions=clf.predict(X_test)\n",
        "print(X_test)\n",
        "print(predictions.shape,predictions)\n",
        "y_test=data.iloc[0:14,5]\n",
        "print(y_test)\n",
        "print(\"Accuracy: \",metrics.accuracy_score(y_test,predictions,normalize=True))\n",
        "print(\"Classification Report: \",metrics.classification_report(y_test,predictions))\n",
        "print(\"Confusion Matrix: \",metrics.confusion_matrix(y_test,predictions))"
      ],
      "execution_count": 11,
      "outputs": [
        {
          "output_type": "stream",
          "name": "stdout",
          "text": [
            "GaussianNB(priors=None, var_smoothing=1e-09)\n",
            "(14, 4) (14, 4)\n",
            "    Age  Income  Student  Credit_Rating\n",
            "0     1       3        0              0\n",
            "1     1       3        0              1\n",
            "2     2       3        0              0\n",
            "3     3       2        0              0\n",
            "4     3       1        1              0\n",
            "5     3       1        1              1\n",
            "6     2       1        1              1\n",
            "7     1       2        0              0\n",
            "8     1       1        1              0\n",
            "9     3       2        1              0\n",
            "10    1       2        1              1\n",
            "11    2       2        0              1\n",
            "12    2       3        1              0\n",
            "13    3       2        0              1\n",
            "(14,) [0 0 0 1 1 1 1 0 1 1 1 0 1 0]\n",
            "0     0\n",
            "1     0\n",
            "2     1\n",
            "3     1\n",
            "4     1\n",
            "5     0\n",
            "6     1\n",
            "7     0\n",
            "8     1\n",
            "9     1\n",
            "10    1\n",
            "11    1\n",
            "12    1\n",
            "13    0\n",
            "Name: Class:Buy_Computer, dtype: int64\n",
            "Accuracy:  0.7857142857142857\n",
            "Classification Report:                precision    recall  f1-score   support\n",
            "\n",
            "           0       0.67      0.80      0.73         5\n",
            "           1       0.88      0.78      0.82         9\n",
            "\n",
            "    accuracy                           0.79        14\n",
            "   macro avg       0.77      0.79      0.78        14\n",
            "weighted avg       0.80      0.79      0.79        14\n",
            "\n",
            "Confusion Matrix:  [[4 1]\n",
            " [2 7]]\n"
          ]
        }
      ]
    },
    {
      "cell_type": "code",
      "metadata": {
        "colab": {
          "base_uri": "https://localhost:8080/"
        },
        "id": "BggfwWi9GtVq",
        "outputId": "2439e485-02f5-4bb7-8308-a2f91e3efbba"
      },
      "source": [
        "clf=BernoulliNB()\n",
        "clf.fit(X_train,y_train)\n",
        "print(clf)\n",
        "X_test=data.iloc[0:14,1:5]\n",
        "print(X_train.shape,X_test.shape)\n",
        "predictions=clf.predict(X_test)\n",
        "print(X_test)\n",
        "print(predictions.shape,predictions)\n",
        "y_test=data.iloc[0:14,5]\n",
        "print(y_test)\n",
        "print(\"Accuracy: \",metrics.accuracy_score(y_test,predictions,normalize=True))\n",
        "print(\"Classification Report: \",metrics.classification_report(y_test,predictions))\n",
        "print(\"Confusion Matrix: \",metrics.confusion_matrix(y_test,predictions))"
      ],
      "execution_count": 12,
      "outputs": [
        {
          "output_type": "stream",
          "name": "stdout",
          "text": [
            "BernoulliNB(alpha=1.0, binarize=0.0, class_prior=None, fit_prior=True)\n",
            "(14, 4) (14, 4)\n",
            "    Age  Income  Student  Credit_Rating\n",
            "0     1       3        0              0\n",
            "1     1       3        0              1\n",
            "2     2       3        0              0\n",
            "3     3       2        0              0\n",
            "4     3       1        1              0\n",
            "5     3       1        1              1\n",
            "6     2       1        1              1\n",
            "7     1       2        0              0\n",
            "8     1       1        1              0\n",
            "9     3       2        1              0\n",
            "10    1       2        1              1\n",
            "11    2       2        0              1\n",
            "12    2       3        1              0\n",
            "13    3       2        0              1\n",
            "(14,) [1 0 1 1 1 1 1 1 1 1 1 0 1 0]\n",
            "0     0\n",
            "1     0\n",
            "2     1\n",
            "3     1\n",
            "4     1\n",
            "5     0\n",
            "6     1\n",
            "7     0\n",
            "8     1\n",
            "9     1\n",
            "10    1\n",
            "11    1\n",
            "12    1\n",
            "13    0\n",
            "Name: Class:Buy_Computer, dtype: int64\n",
            "Accuracy:  0.7142857142857143\n",
            "Classification Report:                precision    recall  f1-score   support\n",
            "\n",
            "           0       0.67      0.40      0.50         5\n",
            "           1       0.73      0.89      0.80         9\n",
            "\n",
            "    accuracy                           0.71        14\n",
            "   macro avg       0.70      0.64      0.65        14\n",
            "weighted avg       0.71      0.71      0.69        14\n",
            "\n",
            "Confusion Matrix:  [[2 3]\n",
            " [1 8]]\n"
          ]
        }
      ]
    },
    {
      "cell_type": "code",
      "metadata": {
        "colab": {
          "base_uri": "https://localhost:8080/"
        },
        "id": "xqNhoV8WG0_g",
        "outputId": "eb86f3de-1c38-4089-f4c1-3f9f2a9b2638"
      },
      "source": [
        "clf=MultinomialNB()\n",
        "clf.fit(X_train,y_train)\n",
        "print(clf)\n",
        "X_test=data.iloc[0:14,1:5]\n",
        "print(X_train.shape,X_test.shape)\n",
        "predictions=clf.predict(X_test)\n",
        "print(X_test)\n",
        "print(predictions.shape,predictions)\n",
        "y_test=data.iloc[0:14,5]\n",
        "print(y_test)\n",
        "print(\"Accuracy: \",metrics.accuracy_score(y_test,predictions,normalize=True))\n",
        "print(\"Classification Report: \",metrics.classification_report(y_test,predictions))\n",
        "print(\"Confusion Matrix: \",metrics.confusion_matrix(y_test,predictions))"
      ],
      "execution_count": 13,
      "outputs": [
        {
          "output_type": "stream",
          "name": "stdout",
          "text": [
            "MultinomialNB(alpha=1.0, class_prior=None, fit_prior=True)\n",
            "(14, 4) (14, 4)\n",
            "    Age  Income  Student  Credit_Rating\n",
            "0     1       3        0              0\n",
            "1     1       3        0              1\n",
            "2     2       3        0              0\n",
            "3     3       2        0              0\n",
            "4     3       1        1              0\n",
            "5     3       1        1              1\n",
            "6     2       1        1              1\n",
            "7     1       2        0              0\n",
            "8     1       1        1              0\n",
            "9     3       2        1              0\n",
            "10    1       2        1              1\n",
            "11    2       2        0              1\n",
            "12    2       3        1              0\n",
            "13    3       2        0              1\n",
            "(14,) [1 0 1 1 1 1 1 1 1 1 1 0 1 1]\n",
            "0     0\n",
            "1     0\n",
            "2     1\n",
            "3     1\n",
            "4     1\n",
            "5     0\n",
            "6     1\n",
            "7     0\n",
            "8     1\n",
            "9     1\n",
            "10    1\n",
            "11    1\n",
            "12    1\n",
            "13    0\n",
            "Name: Class:Buy_Computer, dtype: int64\n",
            "Accuracy:  0.6428571428571429\n",
            "Classification Report:                precision    recall  f1-score   support\n",
            "\n",
            "           0       0.50      0.20      0.29         5\n",
            "           1       0.67      0.89      0.76         9\n",
            "\n",
            "    accuracy                           0.64        14\n",
            "   macro avg       0.58      0.54      0.52        14\n",
            "weighted avg       0.61      0.64      0.59        14\n",
            "\n",
            "Confusion Matrix:  [[1 4]\n",
            " [1 8]]\n"
          ]
        }
      ]
    }
  ]
}