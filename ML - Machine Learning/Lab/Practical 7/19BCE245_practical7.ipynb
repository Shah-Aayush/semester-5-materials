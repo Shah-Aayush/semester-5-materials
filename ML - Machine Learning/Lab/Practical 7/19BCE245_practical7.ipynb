{
  "nbformat": 4,
  "nbformat_minor": 0,
  "metadata": {
    "colab": {
      "name": "19BCE245_practical7.ipynb",
      "provenance": []
    },
    "kernelspec": {
      "name": "python3",
      "display_name": "Python 3"
    },
    "language_info": {
      "name": "python"
    }
  },
  "cells": [
    {
      "cell_type": "markdown",
      "metadata": {
        "id": "DEILUh0RwmlH"
      },
      "source": [
        "# Practical 7 Machine Learning\n",
        "\n",
        "- Aayush Shah\n",
        "- 19BCE245"
      ]
    },
    {
      "cell_type": "markdown",
      "metadata": {
        "id": "KoP_wZB3tnKy"
      },
      "source": [
        "## Grid Search with KNN"
      ]
    },
    {
      "cell_type": "code",
      "metadata": {
        "id": "YETIFnsju3Tm"
      },
      "source": [
        "from pprint import pprint\n",
        "\n",
        "import numpy as np\n",
        "from sklearn.datasets import load_iris\n",
        "from sklearn.neighbors import KNeighborsClassifier\n",
        "from sklearn.svm import LinearSVC\n",
        "from sklearn.model_selection import GridSearchCV\n",
        "from sklearn.metrics import confusion_matrix, classification_report, accuracy_score\n",
        "import matplotlib.pyplot as plt"
      ],
      "execution_count": 31,
      "outputs": []
    },
    {
      "cell_type": "code",
      "metadata": {
        "id": "nvh7-UiHwuat"
      },
      "source": [
        "X, y = load_iris(return_X_y=True)\n",
        "\n",
        "X_train, y_train = X[0:150:2, ...], y[0:150:2]\n",
        "X_test, y_test = X[1:150:2, ...], y[1:150:2]"
      ],
      "execution_count": 32,
      "outputs": []
    },
    {
      "cell_type": "code",
      "metadata": {
        "id": "-sKneQyRvHsa"
      },
      "source": [
        "param_grid = {\n",
        "    'n_neighbors': [1, 5, 10, 20],\n",
        "    'weights'    : ['distance', 'uniform']\n",
        "}"
      ],
      "execution_count": 33,
      "outputs": []
    },
    {
      "cell_type": "code",
      "metadata": {
        "id": "zu-WG0QTvKHH"
      },
      "source": [
        "knn_model = KNeighborsClassifier()"
      ],
      "execution_count": 34,
      "outputs": []
    },
    {
      "cell_type": "code",
      "metadata": {
        "id": "zic00ErAvMZq"
      },
      "source": [
        "search_model = GridSearchCV(knn_model, param_grid, n_jobs=-1, scoring='accuracy')"
      ],
      "execution_count": 35,
      "outputs": []
    },
    {
      "cell_type": "code",
      "metadata": {
        "colab": {
          "base_uri": "https://localhost:8080/"
        },
        "id": "swJXCzrsvN4b",
        "outputId": "8a399c94-7f8a-481c-bbae-733a1e2ec23b"
      },
      "source": [
        "search_model.fit(X_train, y_train)"
      ],
      "execution_count": 36,
      "outputs": [
        {
          "output_type": "execute_result",
          "data": {
            "text/plain": [
              "GridSearchCV(cv=None, error_score=nan,\n",
              "             estimator=KNeighborsClassifier(algorithm='auto', leaf_size=30,\n",
              "                                            metric='minkowski',\n",
              "                                            metric_params=None, n_jobs=None,\n",
              "                                            n_neighbors=5, p=2,\n",
              "                                            weights='uniform'),\n",
              "             iid='deprecated', n_jobs=-1,\n",
              "             param_grid={'n_neighbors': [1, 5, 10, 20],\n",
              "                         'weights': ['distance', 'uniform']},\n",
              "             pre_dispatch='2*n_jobs', refit=True, return_train_score=False,\n",
              "             scoring='accuracy', verbose=0)"
            ]
          },
          "metadata": {},
          "execution_count": 36
        }
      ]
    },
    {
      "cell_type": "code",
      "metadata": {
        "colab": {
          "base_uri": "https://localhost:8080/"
        },
        "id": "bGT5U05iv4F1",
        "outputId": "c2ed4016-4998-422b-cbbc-645b78ee800c"
      },
      "source": [
        "print(\"Best param : \",search_model.best_params_)"
      ],
      "execution_count": 37,
      "outputs": [
        {
          "output_type": "stream",
          "name": "stdout",
          "text": [
            "Best param :  {'n_neighbors': 5, 'weights': 'distance'}\n"
          ]
        }
      ]
    },
    {
      "cell_type": "code",
      "metadata": {
        "id": "Klgrf-8Tv5VZ"
      },
      "source": [
        "y_pred = search_model.predict(X_test)"
      ],
      "execution_count": 38,
      "outputs": []
    },
    {
      "cell_type": "code",
      "metadata": {
        "colab": {
          "base_uri": "https://localhost:8080/"
        },
        "id": "NwjlEL1Fv6lT",
        "outputId": "13bd0004-558f-4c89-be88-bfd2ee45a93e"
      },
      "source": [
        "print(f\"accuracy : {accuracy_score(y_test, y_pred)}\")"
      ],
      "execution_count": 39,
      "outputs": [
        {
          "output_type": "stream",
          "name": "stdout",
          "text": [
            "accuracy : 0.9866666666666667\n"
          ]
        }
      ]
    },
    {
      "cell_type": "code",
      "metadata": {
        "colab": {
          "base_uri": "https://localhost:8080/"
        },
        "id": "OGM3nSdRv73P",
        "outputId": "142845e5-bcac-48ea-ce40-3becba62e7f5"
      },
      "source": [
        "print(\"Confusion matrix : \",confusion_matrix(y_test, y_pred))"
      ],
      "execution_count": 40,
      "outputs": [
        {
          "output_type": "stream",
          "name": "stdout",
          "text": [
            "Confusion matrix :  [[25  0  0]\n",
            " [ 0 24  1]\n",
            " [ 0  0 25]]\n"
          ]
        }
      ]
    },
    {
      "cell_type": "code",
      "metadata": {
        "colab": {
          "base_uri": "https://localhost:8080/"
        },
        "id": "DVccahcbwBJa",
        "outputId": "15b37330-1364-40cb-8f33-046ddc0ac521"
      },
      "source": [
        "print(\"Classification report : \",classification_report(y_test, y_pred))"
      ],
      "execution_count": 41,
      "outputs": [
        {
          "output_type": "stream",
          "name": "stdout",
          "text": [
            "Classification report :                precision    recall  f1-score   support\n",
            "\n",
            "           0       1.00      1.00      1.00        25\n",
            "           1       1.00      0.96      0.98        25\n",
            "           2       0.96      1.00      0.98        25\n",
            "\n",
            "    accuracy                           0.99        75\n",
            "   macro avg       0.99      0.99      0.99        75\n",
            "weighted avg       0.99      0.99      0.99        75\n",
            "\n"
          ]
        }
      ]
    },
    {
      "cell_type": "code",
      "metadata": {
        "colab": {
          "base_uri": "https://localhost:8080/"
        },
        "id": "C0_xoUXawI9D",
        "outputId": "fcede74c-d718-4759-b841-777f6de20989"
      },
      "source": [
        "pprint(search_model.cv_results_)"
      ],
      "execution_count": 42,
      "outputs": [
        {
          "output_type": "stream",
          "name": "stdout",
          "text": [
            "{'mean_fit_time': array([0.00087857, 0.00068216, 0.00081472, 0.00067987, 0.00072827,\n",
            "       0.00100598, 0.00064368, 0.00093093]),\n",
            " 'mean_score_time': array([0.00211287, 0.00222936, 0.00172081, 0.00320048, 0.00264702,\n",
            "       0.00330009, 0.00161638, 0.00227656]),\n",
            " 'mean_test_score': array([0.94666667, 0.94666667, 0.96      , 0.96      , 0.96      ,\n",
            "       0.94666667, 0.93333333, 0.92      ]),\n",
            " 'param_n_neighbors': masked_array(data=[1, 1, 5, 5, 10, 10, 20, 20],\n",
            "             mask=[False, False, False, False, False, False, False, False],\n",
            "       fill_value='?',\n",
            "            dtype=object),\n",
            " 'param_weights': masked_array(data=['distance', 'uniform', 'distance', 'uniform',\n",
            "                   'distance', 'uniform', 'distance', 'uniform'],\n",
            "             mask=[False, False, False, False, False, False, False, False],\n",
            "       fill_value='?',\n",
            "            dtype=object),\n",
            " 'params': [{'n_neighbors': 1, 'weights': 'distance'},\n",
            "            {'n_neighbors': 1, 'weights': 'uniform'},\n",
            "            {'n_neighbors': 5, 'weights': 'distance'},\n",
            "            {'n_neighbors': 5, 'weights': 'uniform'},\n",
            "            {'n_neighbors': 10, 'weights': 'distance'},\n",
            "            {'n_neighbors': 10, 'weights': 'uniform'},\n",
            "            {'n_neighbors': 20, 'weights': 'distance'},\n",
            "            {'n_neighbors': 20, 'weights': 'uniform'}],\n",
            " 'rank_test_score': array([4, 4, 1, 1, 1, 4, 7, 8], dtype=int32),\n",
            " 'split0_test_score': array([0.93333333, 0.93333333, 0.93333333, 0.86666667, 0.93333333,\n",
            "       0.86666667, 0.8       , 0.8       ]),\n",
            " 'split1_test_score': array([1., 1., 1., 1., 1., 1., 1., 1.]),\n",
            " 'split2_test_score': array([0.86666667, 0.86666667, 0.93333333, 1.        , 0.93333333,\n",
            "       0.93333333, 0.93333333, 0.93333333]),\n",
            " 'split3_test_score': array([0.93333333, 0.93333333, 0.93333333, 0.93333333, 0.93333333,\n",
            "       0.93333333, 0.93333333, 0.93333333]),\n",
            " 'split4_test_score': array([1.        , 1.        , 1.        , 1.        , 1.        ,\n",
            "       1.        , 1.        , 0.93333333]),\n",
            " 'std_fit_time': array([7.12101658e-05, 6.10078438e-05, 1.19744853e-04, 6.10676694e-05,\n",
            "       9.36260501e-05, 6.84503811e-04, 1.89942861e-05, 4.86208443e-04]),\n",
            " 'std_score_time': array([0.0010189 , 0.00030563, 0.00042828, 0.00137337, 0.00153172,\n",
            "       0.00079443, 0.00011413, 0.00014904]),\n",
            " 'std_test_score': array([0.04988877, 0.04988877, 0.03265986, 0.05333333, 0.03265986,\n",
            "       0.04988877, 0.07302967, 0.06531973])}\n"
          ]
        }
      ]
    },
    {
      "cell_type": "code",
      "metadata": {
        "colab": {
          "base_uri": "https://localhost:8080/"
        },
        "id": "y-lVDk3qwLLj",
        "outputId": "ca89048a-019a-46c9-b7be-e1626a313e6c"
      },
      "source": [
        "search_model.best_index_"
      ],
      "execution_count": 43,
      "outputs": [
        {
          "output_type": "execute_result",
          "data": {
            "text/plain": [
              "2"
            ]
          },
          "metadata": {},
          "execution_count": 43
        }
      ]
    },
    {
      "cell_type": "markdown",
      "metadata": {
        "id": "zpW4l45zwMzs"
      },
      "source": [
        "## Grid Search with SVM"
      ]
    },
    {
      "cell_type": "code",
      "metadata": {
        "id": "FsBmGOWTwPs0"
      },
      "source": [
        "param_grid = {\n",
        "    'penalty': ['l1', 'l2'],\n",
        "    'loss'   : ['hinge', 'squared_hinge'],\n",
        "    'C'      : [0.5, 1.0, 2.0, 5.0, 10.0]\n",
        "}"
      ],
      "execution_count": 44,
      "outputs": []
    },
    {
      "cell_type": "code",
      "metadata": {
        "id": "m9M7MIgdwRvK"
      },
      "source": [
        "svc_model = LinearSVC()"
      ],
      "execution_count": 45,
      "outputs": []
    },
    {
      "cell_type": "code",
      "metadata": {
        "id": "Jt1d-wliwTae"
      },
      "source": [
        "search_model = GridSearchCV(svc_model, param_grid, n_jobs=-1, scoring='accuracy')"
      ],
      "execution_count": 46,
      "outputs": []
    },
    {
      "cell_type": "code",
      "metadata": {
        "colab": {
          "base_uri": "https://localhost:8080/"
        },
        "id": "zQIbo15aw0Id",
        "outputId": "fc29d6e3-e968-452b-d973-59b25904b799"
      },
      "source": [
        "search_model.fit(X_train, y_train)"
      ],
      "execution_count": 47,
      "outputs": [
        {
          "output_type": "stream",
          "name": "stderr",
          "text": [
            "/usr/local/lib/python3.7/dist-packages/sklearn/svm/_base.py:947: ConvergenceWarning: Liblinear failed to converge, increase the number of iterations.\n",
            "  \"the number of iterations.\", ConvergenceWarning)\n"
          ]
        },
        {
          "output_type": "execute_result",
          "data": {
            "text/plain": [
              "GridSearchCV(cv=None, error_score=nan,\n",
              "             estimator=LinearSVC(C=1.0, class_weight=None, dual=True,\n",
              "                                 fit_intercept=True, intercept_scaling=1,\n",
              "                                 loss='squared_hinge', max_iter=1000,\n",
              "                                 multi_class='ovr', penalty='l2',\n",
              "                                 random_state=None, tol=0.0001, verbose=0),\n",
              "             iid='deprecated', n_jobs=-1,\n",
              "             param_grid={'C': [0.5, 1.0, 2.0, 5.0, 10.0],\n",
              "                         'loss': ['hinge', 'squared_hinge'],\n",
              "                         'penalty': ['l1', 'l2']},\n",
              "             pre_dispatch='2*n_jobs', refit=True, return_train_score=False,\n",
              "             scoring='accuracy', verbose=0)"
            ]
          },
          "metadata": {},
          "execution_count": 47
        }
      ]
    },
    {
      "cell_type": "code",
      "metadata": {
        "colab": {
          "base_uri": "https://localhost:8080/"
        },
        "id": "WOfUQKhOwVHN",
        "outputId": "10e94e6b-aba4-49d3-f20a-daf927264555"
      },
      "source": [
        "print(\"Best param : \",search_model.best_params_)"
      ],
      "execution_count": 48,
      "outputs": [
        {
          "output_type": "stream",
          "name": "stdout",
          "text": [
            "Best param :  {'C': 2.0, 'loss': 'squared_hinge', 'penalty': 'l2'}\n"
          ]
        }
      ]
    },
    {
      "cell_type": "code",
      "metadata": {
        "id": "SNYEEkcLwWar"
      },
      "source": [
        "y_pred = search_model.predict(X_test)"
      ],
      "execution_count": 49,
      "outputs": []
    },
    {
      "cell_type": "code",
      "metadata": {
        "colab": {
          "base_uri": "https://localhost:8080/"
        },
        "id": "Kv-t3NYpwZTg",
        "outputId": "bff78473-ac56-40c2-90e6-676f5c9aeb51"
      },
      "source": [
        "print(f\"accuracy : {accuracy_score(y_test, y_pred)}\")"
      ],
      "execution_count": 50,
      "outputs": [
        {
          "output_type": "stream",
          "name": "stdout",
          "text": [
            "accuracy : 0.9466666666666667\n"
          ]
        }
      ]
    },
    {
      "cell_type": "code",
      "metadata": {
        "colab": {
          "base_uri": "https://localhost:8080/"
        },
        "id": "tjYgM4wBwbvi",
        "outputId": "3de2d1ab-2ae5-49db-cde6-1da452b788bd"
      },
      "source": [
        "print(\"Confusion matrix : \",confusion_matrix(y_test, y_pred))"
      ],
      "execution_count": 51,
      "outputs": [
        {
          "output_type": "stream",
          "name": "stdout",
          "text": [
            "Confusion matrix :  [[25  0  0]\n",
            " [ 0 24  1]\n",
            " [ 0  3 22]]\n"
          ]
        }
      ]
    },
    {
      "cell_type": "code",
      "metadata": {
        "colab": {
          "base_uri": "https://localhost:8080/"
        },
        "id": "HTG8AUH2wd3i",
        "outputId": "a2003718-4486-409a-cf0d-e2a37cbb9ad6"
      },
      "source": [
        "print(\"Classification report : \",classification_report(y_test, y_pred))"
      ],
      "execution_count": 52,
      "outputs": [
        {
          "output_type": "stream",
          "name": "stdout",
          "text": [
            "Classification report :                precision    recall  f1-score   support\n",
            "\n",
            "           0       1.00      1.00      1.00        25\n",
            "           1       0.89      0.96      0.92        25\n",
            "           2       0.96      0.88      0.92        25\n",
            "\n",
            "    accuracy                           0.95        75\n",
            "   macro avg       0.95      0.95      0.95        75\n",
            "weighted avg       0.95      0.95      0.95        75\n",
            "\n"
          ]
        }
      ]
    },
    {
      "cell_type": "code",
      "metadata": {
        "colab": {
          "base_uri": "https://localhost:8080/"
        },
        "id": "_yX13l_GwiGL",
        "outputId": "3d6acafc-43d2-499d-de10-1d0f72934f17"
      },
      "source": [
        "pprint(search_model.cv_results_)"
      ],
      "execution_count": 53,
      "outputs": [
        {
          "output_type": "stream",
          "name": "stdout",
          "text": [
            "{'mean_fit_time': array([0.00065522, 0.0026547 , 0.00053196, 0.00932889, 0.00049925,\n",
            "       0.00223246, 0.00066447, 0.01215959, 0.00045056, 0.00361872,\n",
            "       0.00052738, 0.00588355, 0.00084724, 0.00364995, 0.00047655,\n",
            "       0.010116  , 0.00050411, 0.0051692 , 0.00072131, 0.00755215]),\n",
            " 'mean_score_time': array([0.        , 0.00193143, 0.        , 0.00054579, 0.        ,\n",
            "       0.00043759, 0.        , 0.00106173, 0.        , 0.00055356,\n",
            "       0.        , 0.00056076, 0.        , 0.00047431, 0.        ,\n",
            "       0.00075426, 0.        , 0.00066524, 0.        , 0.0005393 ]),\n",
            " 'mean_test_score': array([       nan, 0.86666667,        nan, 0.96      ,        nan,\n",
            "       0.93333333,        nan, 0.96      ,        nan, 0.93333333,\n",
            "              nan, 0.97333333,        nan, 0.94666667,        nan,\n",
            "       0.97333333,        nan, 0.93333333,        nan, 0.93333333]),\n",
            " 'param_C': masked_array(data=[0.5, 0.5, 0.5, 0.5, 1.0, 1.0, 1.0, 1.0, 2.0, 2.0, 2.0,\n",
            "                   2.0, 5.0, 5.0, 5.0, 5.0, 10.0, 10.0, 10.0, 10.0],\n",
            "             mask=[False, False, False, False, False, False, False, False,\n",
            "                   False, False, False, False, False, False, False, False,\n",
            "                   False, False, False, False],\n",
            "       fill_value='?',\n",
            "            dtype=object),\n",
            " 'param_loss': masked_array(data=['hinge', 'hinge', 'squared_hinge', 'squared_hinge',\n",
            "                   'hinge', 'hinge', 'squared_hinge', 'squared_hinge',\n",
            "                   'hinge', 'hinge', 'squared_hinge', 'squared_hinge',\n",
            "                   'hinge', 'hinge', 'squared_hinge', 'squared_hinge',\n",
            "                   'hinge', 'hinge', 'squared_hinge', 'squared_hinge'],\n",
            "             mask=[False, False, False, False, False, False, False, False,\n",
            "                   False, False, False, False, False, False, False, False,\n",
            "                   False, False, False, False],\n",
            "       fill_value='?',\n",
            "            dtype=object),\n",
            " 'param_penalty': masked_array(data=['l1', 'l2', 'l1', 'l2', 'l1', 'l2', 'l1', 'l2', 'l1',\n",
            "                   'l2', 'l1', 'l2', 'l1', 'l2', 'l1', 'l2', 'l1', 'l2',\n",
            "                   'l1', 'l2'],\n",
            "             mask=[False, False, False, False, False, False, False, False,\n",
            "                   False, False, False, False, False, False, False, False,\n",
            "                   False, False, False, False],\n",
            "       fill_value='?',\n",
            "            dtype=object),\n",
            " 'params': [{'C': 0.5, 'loss': 'hinge', 'penalty': 'l1'},\n",
            "            {'C': 0.5, 'loss': 'hinge', 'penalty': 'l2'},\n",
            "            {'C': 0.5, 'loss': 'squared_hinge', 'penalty': 'l1'},\n",
            "            {'C': 0.5, 'loss': 'squared_hinge', 'penalty': 'l2'},\n",
            "            {'C': 1.0, 'loss': 'hinge', 'penalty': 'l1'},\n",
            "            {'C': 1.0, 'loss': 'hinge', 'penalty': 'l2'},\n",
            "            {'C': 1.0, 'loss': 'squared_hinge', 'penalty': 'l1'},\n",
            "            {'C': 1.0, 'loss': 'squared_hinge', 'penalty': 'l2'},\n",
            "            {'C': 2.0, 'loss': 'hinge', 'penalty': 'l1'},\n",
            "            {'C': 2.0, 'loss': 'hinge', 'penalty': 'l2'},\n",
            "            {'C': 2.0, 'loss': 'squared_hinge', 'penalty': 'l1'},\n",
            "            {'C': 2.0, 'loss': 'squared_hinge', 'penalty': 'l2'},\n",
            "            {'C': 5.0, 'loss': 'hinge', 'penalty': 'l1'},\n",
            "            {'C': 5.0, 'loss': 'hinge', 'penalty': 'l2'},\n",
            "            {'C': 5.0, 'loss': 'squared_hinge', 'penalty': 'l1'},\n",
            "            {'C': 5.0, 'loss': 'squared_hinge', 'penalty': 'l2'},\n",
            "            {'C': 10.0, 'loss': 'hinge', 'penalty': 'l1'},\n",
            "            {'C': 10.0, 'loss': 'hinge', 'penalty': 'l2'},\n",
            "            {'C': 10.0, 'loss': 'squared_hinge', 'penalty': 'l1'},\n",
            "            {'C': 10.0, 'loss': 'squared_hinge', 'penalty': 'l2'}],\n",
            " 'rank_test_score': array([20, 10, 17,  3, 15,  8, 19,  3, 11,  6, 13,  1, 14,  5, 16,  1, 18,\n",
            "        6, 12,  8], dtype=int32),\n",
            " 'split0_test_score': array([       nan, 0.93333333,        nan, 1.        ,        nan,\n",
            "       0.93333333,        nan, 1.        ,        nan, 1.        ,\n",
            "              nan, 1.        ,        nan, 1.        ,        nan,\n",
            "       1.        ,        nan, 1.        ,        nan, 1.        ]),\n",
            " 'split1_test_score': array([       nan, 0.8       ,        nan, 1.        ,        nan,\n",
            "       0.93333333,        nan, 1.        ,        nan, 0.93333333,\n",
            "              nan, 1.        ,        nan, 1.        ,        nan,\n",
            "       1.        ,        nan, 1.        ,        nan, 0.86666667]),\n",
            " 'split2_test_score': array([       nan, 0.8       ,        nan, 0.93333333,        nan,\n",
            "       0.93333333,        nan, 0.93333333,        nan, 0.93333333,\n",
            "              nan, 0.93333333,        nan, 0.93333333,        nan,\n",
            "       0.93333333,        nan, 0.86666667,        nan, 0.93333333]),\n",
            " 'split3_test_score': array([       nan, 0.93333333,        nan, 0.86666667,        nan,\n",
            "       0.86666667,        nan, 0.86666667,        nan, 0.8       ,\n",
            "              nan, 0.93333333,        nan, 0.8       ,        nan,\n",
            "       0.93333333,        nan, 0.8       ,        nan, 0.86666667]),\n",
            " 'split4_test_score': array([       nan, 0.86666667,        nan, 1.        ,        nan,\n",
            "       1.        ,        nan, 1.        ,        nan, 1.        ,\n",
            "              nan, 1.        ,        nan, 1.        ,        nan,\n",
            "       1.        ,        nan, 1.        ,        nan, 1.        ]),\n",
            " 'std_fit_time': array([5.23034939e-05, 1.08665828e-03, 7.48004466e-05, 2.65536724e-03,\n",
            "       1.02394937e-04, 2.74368123e-04, 2.88077648e-04, 4.68370207e-03,\n",
            "       1.10441642e-04, 1.82793543e-03, 6.21395846e-05, 1.27897848e-03,\n",
            "       7.10431449e-04, 7.71458302e-04, 9.54941147e-05, 3.93486992e-03,\n",
            "       8.08391022e-05, 1.73340528e-03, 3.15755201e-04, 5.37354199e-03]),\n",
            " 'std_score_time': array([0.00000000e+00, 2.01196687e-03, 0.00000000e+00, 9.06040040e-05,\n",
            "       0.00000000e+00, 6.54038440e-05, 0.00000000e+00, 9.86797401e-04,\n",
            "       0.00000000e+00, 6.85024998e-05, 0.00000000e+00, 1.57605249e-04,\n",
            "       0.00000000e+00, 1.02632882e-04, 0.00000000e+00, 3.55604091e-04,\n",
            "       0.00000000e+00, 3.87628150e-04, 0.00000000e+00, 1.68917166e-04]),\n",
            " 'std_test_score': array([       nan, 0.05962848,        nan, 0.05333333,        nan,\n",
            "       0.0421637 ,        nan, 0.05333333,        nan, 0.07302967,\n",
            "              nan, 0.03265986,        nan, 0.07774603,        nan,\n",
            "       0.03265986,        nan, 0.0843274 ,        nan, 0.05962848])}\n"
          ]
        }
      ]
    },
    {
      "cell_type": "code",
      "metadata": {
        "colab": {
          "base_uri": "https://localhost:8080/"
        },
        "id": "rzOMo2sowjuV",
        "outputId": "4d155dfd-42b1-436e-def0-bbfa796ce22e"
      },
      "source": [
        "search_model.best_index_"
      ],
      "execution_count": 54,
      "outputs": [
        {
          "output_type": "execute_result",
          "data": {
            "text/plain": [
              "11"
            ]
          },
          "metadata": {},
          "execution_count": 54
        }
      ]
    }
  ]
}