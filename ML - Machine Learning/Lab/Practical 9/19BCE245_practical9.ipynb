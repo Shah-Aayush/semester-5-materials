{
  "nbformat": 4,
  "nbformat_minor": 0,
  "metadata": {
    "colab": {
      "name": "19BCE245_practical9.ipynb",
      "provenance": []
    },
    "kernelspec": {
      "name": "python3",
      "display_name": "Python 3"
    },
    "language_info": {
      "name": "python"
    }
  },
  "cells": [
    {
      "cell_type": "markdown",
      "metadata": {
        "id": "z1f32e38VYg_"
      },
      "source": [
        "Date: **10.11.2021**\n",
        "\n",
        "Roll No. and Name: **19BCE245 Aayush Shah**\n",
        "\n",
        "Course Code and Name: **2CS501 Machine Learning**\n",
        "\n",
        "Practical: **9**\n",
        "\n",
        "Definition:  **Ex-OR Gate/any other problem using Backpropagation Neural Networks (self-implementation) (4 Hrs)**\n"
      ]
    },
    {
      "cell_type": "markdown",
      "metadata": {
        "id": "fFvNqI0bWU2E"
      },
      "source": [
        "# Forward Propagation"
      ]
    },
    {
      "cell_type": "code",
      "metadata": {
        "id": "BCQFdcOJvp2h"
      },
      "source": [
        "def forward_propagation(x,y,parameters):\n",
        "    m=x.shape[1]\n",
        "    w1=parameters[\"W1\"]\n",
        "    w2=parameters[\"W2\"]\n",
        "    b1=parameters[\"b1\"]\n",
        "    b2=parameters[\"b2\"]\n",
        "    \n",
        "    net1=np.dot(w1,x)+b1\n",
        "    A1 = 1/(1+np.exp(-net1))  #sigmoid\n",
        "    net2=np.dot(w2,A1)+b2 # layer2\n",
        "    A2 = 1/(1+np.exp(-net2))\n",
        "    \n",
        "    cache=(net1,A1,w1,b1,net2,A2,w2,b2)\n",
        "    logprobe=np.multiply(np.log(A2),y)+np.multiply(np.log(1-A2),(1-y))   #cross  entropy\n",
        "    cost= -np.sum(logprobe)/m\n",
        "    return cost,cache,A2"
      ],
      "execution_count": null,
      "outputs": []
    },
    {
      "cell_type": "markdown",
      "metadata": {
        "id": "ypTgZUjaWWs8"
      },
      "source": [
        "# Backward Propagation"
      ]
    },
    {
      "cell_type": "code",
      "metadata": {
        "id": "O3iwyM5xvrmd"
      },
      "source": [
        "def backward_propagation(x,y,cache):\n",
        "    m=x.shape[1]\n",
        "    (net1,A1,w1,b1,net2,A2,w2,b2)=cache\n",
        "    \n",
        "    dnet2=A2-y\n",
        "    \n",
        "    # gradients of all the parameters which are to be updated\n",
        "    dw2=np.dot(dnet2,A1.T)/m\n",
        "    db2=np.sum(dnet2,axis=1,keepdims=True)/m\n",
        "    \n",
        "    dA1=np.dot(w2.T,dnet2)\n",
        "    dnet1=np.multiply(dA1,A1*(1-A1))\n",
        "    dw1=np.dot(dnet1,x.T)/m\n",
        "    db1=np.sum(dnet1,axis=1,keepdims=True)/m\n",
        "    \n",
        "    gradients={'dz2':dnet2,'dw2':dw2,'db2':db2,'dz1':dnet1,'dw1':dw1,'db1':db1}\n",
        "    return gradients"
      ],
      "execution_count": null,
      "outputs": []
    },
    {
      "cell_type": "markdown",
      "metadata": {
        "id": "IGkVOHULWjuR"
      },
      "source": [
        "# Updating parameters"
      ]
    },
    {
      "cell_type": "code",
      "metadata": {
        "id": "ceZoLL4Mvtnw"
      },
      "source": [
        "def update_parameters(parameters,gradients,lr):\n",
        "  # updated here by making use of gradient descent algorithm\n",
        "    parameters['W1']=parameters['W1']- lr * gradients['dw1']\n",
        "    parameters['W2']=parameters['W2']- lr * gradients['dw2']\n",
        "    parameters['b1']=parameters['b1']- lr * gradients['db1']\n",
        "    parameters['b2']=parameters['b2']- lr * gradients['db2']\n",
        "    \n",
        "    return parameters"
      ],
      "execution_count": null,
      "outputs": []
    },
    {
      "cell_type": "markdown",
      "metadata": {
        "id": "aBzMD_05WaQz"
      },
      "source": [
        "# Main"
      ]
    },
    {
      "cell_type": "code",
      "metadata": {
        "colab": {
          "base_uri": "https://localhost:8080/",
          "height": 517
        },
        "id": "DGPBEy7IvI6e",
        "outputId": "2011fd2b-df26-4a7e-c24d-823fcdd57eeb"
      },
      "source": [
        "import numpy as np\n",
        "import matplotlib.pyplot as plt\n",
        "\n",
        "x=np.array([[0,0,1,1],[0,1,0,1]])\n",
        "y=np.array([[0,1,1,0]])\n",
        "\n",
        "hiddenlayer=2   # Number of nearons in hidden layer\n",
        "\n",
        "inputfeatures=x.shape[0]    \n",
        "outputfeatures=y.shape[0]\n",
        "\n",
        "W1=np.random.randn(hiddenlayer,inputfeatures)   #2x2\n",
        "W2=np.random.randn(outputfeatures,hiddenlayer)  #1x2\n",
        "\n",
        "b1=np.zeros((hiddenlayer,1)) #bias\n",
        "b2=np.zeros((outputfeatures,1))\n",
        "parameters={\"W1\":W1,\"W2\":W2,\"b1\":b1,\"b2\":b2}\n",
        "epoch=100000\n",
        "lr=0.01\n",
        "losses = np.zeros((epoch,1))\n",
        "for i in range(epoch):\n",
        "    losses[i,0],cache,A2=forward_propagation(x,y,parameters)  #cost=losses\n",
        "    gradients= backward_propagation(x,y,cache)\n",
        "    parameters=update_parameters(parameters,gradients,lr)\n",
        "    \n",
        "\n",
        "x=np.array([[0,0,1,1],[0,1,0,1]])\n",
        "cost,c,A2= forward_propagation(x,y,parameters)\n",
        "predict=(A2>0.5)*1.0\n",
        "print(f'\\nXOR Gate')\n",
        "print(f'Final parameters: \\n W = {W1,W2} \\n b = {b1,b2}')\n",
        "\n",
        "print('\\nPredictions :')\n",
        "print('Input  Expected Output  Predicted output')\n",
        "for i in range(x.shape[1]):\n",
        "      print(x.T[i],'        ',y.T[i],'           ',predict.T[i])\n",
        "plt.figure()\n",
        "plt.plot(losses)\n",
        "plt.xlabel('epochs')\n",
        "plt.ylabel('Loss Value')\n",
        "\n",
        "plt.show()"
      ],
      "execution_count": null,
      "outputs": [
        {
          "output_type": "stream",
          "name": "stdout",
          "text": [
            "\n",
            "XOR Gate\n",
            "Final parameters: \n",
            " W = (array([[ 0.53475057,  0.42025292],\n",
            "       [-0.12012437, -1.65813182]]), array([[-0.1875757 ,  1.70313969]])) \n",
            " b = (array([[0.],\n",
            "       [0.]]), array([[0.]]))\n",
            "\n",
            "Predictions :\n",
            "Input  Expected Output  Predicted output\n",
            "[0 0]          [0]             [0.]\n",
            "[0 1]          [1]             [1.]\n",
            "[1 0]          [1]             [1.]\n",
            "[1 1]          [0]             [0.]\n"
          ]
        },
        {
          "output_type": "display_data",
          "data": {
            "image/png": "[encoded data removed]",
            "text/plain": [
              "<Figure size 432x288 with 1 Axes>"
            ]
          },
          "metadata": {
            "needs_background": "light"
          }
        }
      ]
    },
    {
      "cell_type": "markdown",
      "metadata": {
        "id": "L1_F3-dLyk-s"
      },
      "source": [
        "# Conclusion :\n",
        "\n",
        "I had to build a two-layered artificial neural network from the ground up. This clarified my understanding of how to implement a multi-layered ANN. I created six functions to achieve the following tasks:\n",
        "1. Computing cost\n",
        "2. Sigmoid function\n",
        "3. Forward propagation\n",
        "4. Backward propagation\n",
        "5. Updating Parameters\n",
        "6. Plotting loss VS epochs graph\n",
        "\n",
        "- What I learned in class theoretically, I put into practise here. I used inputs from the previous layer's outputs to conduct forward propagation. Then I calculated the gradients of parameters to do backward propagation. Then, in each epoch, I adjusted those parameters. I kept track of the loss for each epoch and made a graph of Loss vs. Epoch.\n",
        "- Finally I calculated the time taken for executing the manual implementation and inbuilt library function. I was surprised to see atleast 10 times difference between both.\n",
        "- This practical helped me to clear my understandings and implementation of ANN by coding it manually from scratch as well as using MLPClassifier from sklearn package."
      ]
    }
  ]
}