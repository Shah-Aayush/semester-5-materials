{
  "nbformat": 4,
  "nbformat_minor": 0,
  "metadata": {
    "colab": {
      "name": "k_means_clustering.ipynb",
      "provenance": [],
      "collapsed_sections": []
    },
    "kernelspec": {
      "name": "python3",
      "display_name": "Python 3"
    },
    "accelerator": "GPU"
  },
  "cells": [
    {
      "cell_type": "markdown",
      "metadata": {
        "id": "evHbohVuBad1"
      },
      "source": [
        "Date: **18.11.2021**\n",
        "\n",
        "Roll No. and Name: **19BCE245 Aayush Shah**\n",
        "\n",
        "Course Code and Name: **2CS501 Machine Learning**\n",
        "\n",
        "Practical: **9**\n",
        "\n",
        "Definition : **K-Means Clustering**\n",
        "\n",
        "Dataset taken : [UrbanGB, urban road accidents coordinates labelled by the urban center Data Set\n",
        "](https://archive.ics.uci.edu/ml/datasets/UrbanGB%2C+urban+road+accidents+coordinates+labelled+by+the+urban+center)"
      ]
    },
    {
      "cell_type": "markdown",
      "metadata": {
        "id": "i_paGd_yLbgH"
      },
      "source": [
        "# K-Means Clustering"
      ]
    },
    {
      "cell_type": "markdown",
      "metadata": {
        "id": "q8_h4BcD6n6Y"
      },
      "source": [
        "Dataset information : \n",
        "- This data consists of odors of 20 different perfumes. Data was obtained by using a handheld odor meter (OMX-GR sensor) per second for 28 seconds period.\n",
        "\n",
        "- Here we want to identify some pattern. We don't know what to predict."
      ]
    },
    {
      "cell_type": "markdown",
      "metadata": {
        "id": "nAuqPwTnLipr"
      },
      "source": [
        "## Importing the libraries"
      ]
    },
    {
      "cell_type": "code",
      "metadata": {
        "id": "yUXGcC4KLmcL"
      },
      "source": [
        "import numpy as np\n",
        "import pandas as pd\n",
        "import matplotlib.pyplot as plt"
      ],
      "execution_count": 11,
      "outputs": []
    },
    {
      "cell_type": "markdown",
      "metadata": {
        "id": "5LciKOr8Lo5O"
      },
      "source": [
        "## Importing the dataset\n",
        "\n",
        "- Here last column is not actually a `Dependent` variable.\n",
        "- Here in order to visualise the clusters, I have taken this specific dataset from https://archive.ics.uci.edu/ website, which has only 2 attributes."
      ]
    },
    {
      "cell_type": "code",
      "metadata": {
        "id": "bKbp0tDG8wPp"
      },
      "source": [
        "dataset = pd.read_csv('urbanGB.csv')\n",
        "dataset.columns = ['Longitudes','Latitudes']    # given heading to columns\n",
        "X = dataset.iloc[:, :].values "
      ],
      "execution_count": 16,
      "outputs": []
    },
    {
      "cell_type": "code",
      "metadata": {
        "colab": {
          "base_uri": "https://localhost:8080/",
          "height": 204
        },
        "id": "SkaWuWx2cAor",
        "outputId": "e1919785-00d3-43e6-abca-3acdf2bd33a7"
      },
      "source": [
        "dataset.head()"
      ],
      "execution_count": 17,
      "outputs": [
        {
          "output_type": "execute_result",
          "data": {
            "text/html": [
              "<div>\n",
              "<style scoped>\n",
              "    .dataframe tbody tr th:only-of-type {\n",
              "        vertical-align: middle;\n",
              "    }\n",
              "\n",
              "    .dataframe tbody tr th {\n",
              "        vertical-align: top;\n",
              "    }\n",
              "\n",
              "    .dataframe thead th {\n",
              "        text-align: right;\n",
              "    }\n",
              "</style>\n",
              "<table border=\"1\" class=\"dataframe\">\n",
              "  <thead>\n",
              "    <tr style=\"text-align: right;\">\n",
              "      <th></th>\n",
              "      <th>Longitudes</th>\n",
              "      <th>Latitudes</th>\n",
              "    </tr>\n",
              "  </thead>\n",
              "  <tbody>\n",
              "    <tr>\n",
              "      <th>0</th>\n",
              "      <td>-3.112550</td>\n",
              "      <td>55.8706</td>\n",
              "    </tr>\n",
              "    <tr>\n",
              "      <th>1</th>\n",
              "      <td>-0.088533</td>\n",
              "      <td>51.3806</td>\n",
              "    </tr>\n",
              "    <tr>\n",
              "      <th>2</th>\n",
              "      <td>-0.326795</td>\n",
              "      <td>51.4476</td>\n",
              "    </tr>\n",
              "    <tr>\n",
              "      <th>3</th>\n",
              "      <td>-3.946530</td>\n",
              "      <td>51.6594</td>\n",
              "    </tr>\n",
              "    <tr>\n",
              "      <th>4</th>\n",
              "      <td>-0.447304</td>\n",
              "      <td>50.8153</td>\n",
              "    </tr>\n",
              "  </tbody>\n",
              "</table>\n",
              "</div>"
            ],
            "text/plain": [
              "   Longitudes  Latitudes\n",
              "0   -3.112550    55.8706\n",
              "1   -0.088533    51.3806\n",
              "2   -0.326795    51.4476\n",
              "3   -3.946530    51.6594\n",
              "4   -0.447304    50.8153"
            ]
          },
          "metadata": {},
          "execution_count": 17
        }
      ]
    },
    {
      "cell_type": "markdown",
      "metadata": {
        "id": "SxKutI279q3g"
      },
      "source": [
        "- Here we don't need to split the dataset in testing and training set. as we are only finding patterns in our dataset. here we don't have to predict anything too."
      ]
    },
    {
      "cell_type": "markdown",
      "metadata": {
        "id": "nWC2EWp2Lx5G"
      },
      "source": [
        "## Using the elbow method to find the optimal number of clusters\n",
        "- with **WCSS** method\n",
        "- `10` iterations for 10 clusters\n",
        "- Here init method is by default `k-means++`, which is to avoid random initialization trap."
      ]
    },
    {
      "cell_type": "code",
      "metadata": {
        "id": "kOIsAsEd8wnX",
        "outputId": "b7915b49-03ca-45a2-b399-f590a50220b1",
        "colab": {
          "base_uri": "https://localhost:8080/"
        }
      },
      "source": [
        "from sklearn.cluster import KMeans\n",
        "wcss = []\n",
        "for i in range(20):\n",
        "  kmeans = KMeans(n_clusters=i+1, init='k-means++', random_state=42)   # Here init method is by default 'k-means++'. which is to avoid random initialization trap.\n",
        "  kmeans.fit(X)\n",
        "  wcss.append(kmeans.inertia_)    # `inertia_` is same value as `WCSS`.\n",
        "  print(f'Done {i+1} iteration : got WCSS {kmeans.inertia_}')   #printing WCSS value"
      ],
      "execution_count": 18,
      "outputs": [
        {
          "output_type": "stream",
          "name": "stdout",
          "text": [
            "Done 1 iteration : got WCSS 1314198.1760473885\n",
            "Done 2 iteration : got WCSS 638138.398962545\n",
            "Done 3 iteration : got WCSS 412968.1955706554\n",
            "Done 4 iteration : got WCSS 252193.046096233\n",
            "Done 5 iteration : got WCSS 201625.0035822029\n",
            "Done 6 iteration : got WCSS 160879.36184499826\n",
            "Done 7 iteration : got WCSS 134591.37193008052\n",
            "Done 8 iteration : got WCSS 115643.1465636793\n",
            "Done 9 iteration : got WCSS 99522.84348710926\n",
            "Done 10 iteration : got WCSS 87907.40751109872\n",
            "Done 11 iteration : got WCSS 78825.20943862089\n",
            "Done 12 iteration : got WCSS 70420.94896284792\n",
            "Done 13 iteration : got WCSS 64377.37271177996\n",
            "Done 14 iteration : got WCSS 59557.21244489832\n",
            "Done 15 iteration : got WCSS 53647.53541337791\n",
            "Done 16 iteration : got WCSS 48815.94566799227\n",
            "Done 17 iteration : got WCSS 44857.09699620689\n",
            "Done 18 iteration : got WCSS 42089.07545199423\n",
            "Done 19 iteration : got WCSS 39502.181265701314\n",
            "Done 20 iteration : got WCSS 36994.977027471454\n"
          ]
        }
      ]
    },
    {
      "cell_type": "code",
      "metadata": {
        "colab": {
          "base_uri": "https://localhost:8080/",
          "height": 295
        },
        "id": "B3PYkLD0ecV6",
        "outputId": "36081fd5-e870-4f4d-de2b-d406b534d72f"
      },
      "source": [
        "plt.plot(range(1,21),wcss, color='blue')\n",
        "plt.title('The Elbow Method')\n",
        "plt.xlabel('The numbere of clusters')\n",
        "plt.ylabel('The WCSS values')\n",
        "plt.show()"
      ],
      "execution_count": 19,
      "outputs": [
        {
          "output_type": "display_data",
          "data": {
            "image/png": "[encoded data removed]",
            "text/plain": [
              "<Figure size 432x288 with 1 Axes>"
            ]
          },
          "metadata": {
            "needs_background": "light"
          }
        }
      ]
    },
    {
      "cell_type": "markdown",
      "metadata": {
        "id": "EIxQbN8De1eh"
      },
      "source": [
        "- From number `4`, the WCSS values decreases slowly. so `4` is the best!"
      ]
    },
    {
      "cell_type": "markdown",
      "metadata": {
        "id": "VgT0mANLL4Nz"
      },
      "source": [
        "## Training the K-Means model on the dataset\n",
        "- Fixing cluster value as `4`"
      ]
    },
    {
      "cell_type": "code",
      "metadata": {
        "id": "Hpv2o-Sw8xCd"
      },
      "source": [
        "kmeans = KMeans(n_clusters=4, init='k-means++', random_state=42)   # Here init method is by default 'k-means++'. which is to avoid random initialization trap.\n",
        "y_kmeans = kmeans.fit_predict(X)  # Not only fits/trains the model, it also predict and returns the dependent variable.\n",
        "\n",
        "# kmeans.fit(X) \n",
        "# y_kmeans = kmeans.predict(X) "
      ],
      "execution_count": 20,
      "outputs": []
    },
    {
      "cell_type": "code",
      "metadata": {
        "colab": {
          "base_uri": "https://localhost:8080/"
        },
        "id": "n4trhx0Qf3pm",
        "outputId": "4ecb0ce1-aee3-4409-f9e6-d4014af644fc"
      },
      "source": [
        "print(y_kmeans)"
      ],
      "execution_count": 21,
      "outputs": [
        {
          "output_type": "stream",
          "name": "stdout",
          "text": [
            "[1 0 0 ... 0 2 1]\n"
          ]
        }
      ]
    },
    {
      "cell_type": "markdown",
      "metadata": {
        "id": "e7YrS1JAMFnm"
      },
      "source": [
        "## Visualising the clusters"
      ]
    },
    {
      "cell_type": "markdown",
      "metadata": {
        "id": "1vJF8vcYhFJ8"
      },
      "source": [
        "- RAW Visualisation : "
      ]
    },
    {
      "cell_type": "code",
      "metadata": {
        "colab": {
          "base_uri": "https://localhost:8080/",
          "height": 295
        },
        "id": "eMa51XiK8xZJ",
        "outputId": "d94eeff9-0e41-4d3c-dc3b-fabb42865eb8"
      },
      "source": [
        "plt.scatter(X[:,0],X[:,1], color='red')\n",
        "plt.scatter(kmeans.cluster_centers_[:,0], kmeans.cluster_centers_[:,1], color='blue')\n",
        "plt.title('Clusters of customers')\n",
        "plt.xlabel('Annual Income ($...k)')\n",
        "plt.ylabel('Spending Score (1-100)')\n",
        "plt.show()"
      ],
      "execution_count": 22,
      "outputs": [
        {
          "output_type": "display_data",
          "data": {
            "image/png": "[encoded data removed]",
            "text/plain": [
              "<Figure size 432x288 with 1 Axes>"
            ]
          },
          "metadata": {
            "needs_background": "light"
          }
        }
      ]
    },
    {
      "cell_type": "markdown",
      "metadata": {
        "id": "8gqH4lhxhIsJ"
      },
      "source": [
        "- Clusters/Section Visualisation\n",
        "  - `s` means size of the point\n",
        "  - `label` is to give title to the specific cluster\n",
        "  - `cluster_centers_` is a 2D array which has all the calculated centroid points."
      ]
    },
    {
      "cell_type": "code",
      "metadata": {
        "colab": {
          "base_uri": "https://localhost:8080/",
          "height": 295
        },
        "id": "dIhFDwfDhM_d",
        "outputId": "d04e5c64-2778-4621-842d-e39096df25dc"
      },
      "source": [
        "plt.scatter(X[y_kmeans==0, 0], X[y_kmeans==0, 1], color='red', s=10, label='Cluster 1')    # `s` means size of the point\n",
        "plt.scatter(X[y_kmeans==1, 0], X[y_kmeans==1, 1], color='blue', s=10, label='Cluster 2')\n",
        "plt.scatter(X[y_kmeans==2, 0], X[y_kmeans==2, 1], color='green', s=10, label='Cluster 3')\n",
        "plt.scatter(X[y_kmeans==3, 0], X[y_kmeans==3, 1], color='cyan', s=10, label='Cluster 4')\n",
        "plt.scatter(X[y_kmeans==4, 0], X[y_kmeans==4, 1], color='magenta', s=10, label='Cluster 5')\n",
        "plt.scatter(kmeans.cluster_centers_[:,0], kmeans.cluster_centers_[:,1], color='black', s=30, label='Centroid')\n",
        "plt.title('Clusters of customers')\n",
        "plt.xlabel('Annual Income ($...k)')\n",
        "plt.ylabel('Spending Score (1-100)')\n",
        "plt.legend()\n",
        "plt.show()"
      ],
      "execution_count": 23,
      "outputs": [
        {
          "output_type": "display_data",
          "data": {
            "image/png": "[encoded data removed]",
            "text/plain": [
              "<Figure size 432x288 with 1 Axes>"
            ]
          },
          "metadata": {
            "needs_background": "light"
          }
        }
      ]
    },
    {
      "cell_type": "markdown",
      "metadata": {
        "id": "LAa8DgzfjG2l"
      },
      "source": [
        "- **Conclusion**\n",
        "  - Here we learnt about K-Means clustering using sklearn, which uses `k-means++` inside. It is an improved version of k-means. \n",
        "  - We have taken the dataset which has only two features in order to visualise the created clusters. Most of the time, we cannot visualise the clusters as there can be more then 2 Dimentional data.\n",
        "  - We have decided the number of clusters using `elbow` method."
      ]
    }
  ]
}